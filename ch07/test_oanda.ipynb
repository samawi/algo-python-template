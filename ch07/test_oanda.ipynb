{
 "cells": [
  {
   "cell_type": "code",
   "execution_count": 2,
   "metadata": {},
   "outputs": [],
   "source": [
    "import tpqoa\n",
    "api = tpqoa.tpqoa(\"../pyalgo.cfg\")"
   ]
  },
  {
   "cell_type": "code",
   "execution_count": 4,
   "metadata": {},
   "outputs": [
    {
     "ename": "ResponseNoField",
     "evalue": "400 response for GET https://api-fxpractice.oanda.com:443/v3/accounts/28447274001/instruments does not have field 'instruments' (contains 'errorMessage')",
     "output_type": "error",
     "traceback": [
      "\u001b[0;31m---------------------------------------------------------------------------\u001b[0m",
      "\u001b[0;31mResponseNoField\u001b[0m                           Traceback (most recent call last)",
      "Cell \u001b[0;32mIn[4], line 1\u001b[0m\n\u001b[0;32m----> 1\u001b[0m \u001b[43mapi\u001b[49m\u001b[38;5;241;43m.\u001b[39;49m\u001b[43mget_instruments\u001b[49m\u001b[43m(\u001b[49m\u001b[43m)\u001b[49m\n",
      "File \u001b[0;32m~/miniconda3/envs/py4at/lib/python3.10/site-packages/tpqoa/tpqoa.py:142\u001b[0m, in \u001b[0;36mtpqoa.get_instruments\u001b[0;34m(self)\u001b[0m\n\u001b[1;32m    140\u001b[0m \u001b[38;5;250m\u001b[39m\u001b[38;5;124;03m''' Retrieves and returns all instruments for the given account. '''\u001b[39;00m\n\u001b[1;32m    141\u001b[0m resp \u001b[38;5;241m=\u001b[39m \u001b[38;5;28mself\u001b[39m\u001b[38;5;241m.\u001b[39mctx\u001b[38;5;241m.\u001b[39maccount\u001b[38;5;241m.\u001b[39minstruments(\u001b[38;5;28mself\u001b[39m\u001b[38;5;241m.\u001b[39maccount_id)\n\u001b[0;32m--> 142\u001b[0m instruments \u001b[38;5;241m=\u001b[39m \u001b[43mresp\u001b[49m\u001b[38;5;241;43m.\u001b[39;49m\u001b[43mget\u001b[49m\u001b[43m(\u001b[49m\u001b[38;5;124;43m'\u001b[39;49m\u001b[38;5;124;43minstruments\u001b[39;49m\u001b[38;5;124;43m'\u001b[39;49m\u001b[43m)\u001b[49m\n\u001b[1;32m    143\u001b[0m instruments \u001b[38;5;241m=\u001b[39m [ins\u001b[38;5;241m.\u001b[39mdict() \u001b[38;5;28;01mfor\u001b[39;00m ins \u001b[38;5;129;01min\u001b[39;00m instruments]\n\u001b[1;32m    144\u001b[0m instruments \u001b[38;5;241m=\u001b[39m [(ins[\u001b[38;5;124m'\u001b[39m\u001b[38;5;124mdisplayName\u001b[39m\u001b[38;5;124m'\u001b[39m], ins[\u001b[38;5;124m'\u001b[39m\u001b[38;5;124mname\u001b[39m\u001b[38;5;124m'\u001b[39m])\n\u001b[1;32m    145\u001b[0m                \u001b[38;5;28;01mfor\u001b[39;00m ins \u001b[38;5;129;01min\u001b[39;00m instruments]\n",
      "File \u001b[0;32m~/miniconda3/envs/py4at/lib/python3.10/site-packages/v20/response.py:35\u001b[0m, in \u001b[0;36mResponse.get\u001b[0;34m(self, field, status)\u001b[0m\n\u001b[1;32m     32\u001b[0m value \u001b[38;5;241m=\u001b[39m \u001b[38;5;28mself\u001b[39m\u001b[38;5;241m.\u001b[39mbody\u001b[38;5;241m.\u001b[39mget(field)\n\u001b[1;32m     34\u001b[0m \u001b[38;5;28;01mif\u001b[39;00m value \u001b[38;5;129;01mis\u001b[39;00m \u001b[38;5;28;01mNone\u001b[39;00m:\n\u001b[0;32m---> 35\u001b[0m     \u001b[38;5;28;01mraise\u001b[39;00m ResponseNoField(\u001b[38;5;28mself\u001b[39m, field)\n\u001b[1;32m     37\u001b[0m \u001b[38;5;28;01mreturn\u001b[39;00m value\n",
      "\u001b[0;31mResponseNoField\u001b[0m: 400 response for GET https://api-fxpractice.oanda.com:443/v3/accounts/28447274001/instruments does not have field 'instruments' (contains 'errorMessage')"
     ]
    }
   ],
   "source": [
    "api.get_instruments()"
   ]
  },
  {
   "cell_type": "code",
   "execution_count": null,
   "metadata": {},
   "outputs": [],
   "source": []
  }
 ],
 "metadata": {
  "kernelspec": {
   "display_name": "py4at",
   "language": "python",
   "name": "python3"
  },
  "language_info": {
   "codemirror_mode": {
    "name": "ipython",
    "version": 3
   },
   "file_extension": ".py",
   "mimetype": "text/x-python",
   "name": "python",
   "nbconvert_exporter": "python",
   "pygments_lexer": "ipython3",
   "version": "3.10.12"
  }
 },
 "nbformat": 4,
 "nbformat_minor": 2
}
