{
 "cells": [
  {
   "cell_type": "markdown",
   "metadata": {},
   "source": [
    "<img src=\"http://hilpisch.com/tpq_logo.png\" alt=\"The Python Quants\" width=\"35%\" align=\"right\" border=\"0\"><br>"
   ]
  },
  {
   "cell_type": "markdown",
   "metadata": {},
   "source": [
    "# Python for Algorithmic Trading "
   ]
  },
  {
   "cell_type": "markdown",
   "metadata": {},
   "source": [
    "**Chapter 07 &mdash; Working with Real-Time Data and Sockets**"
   ]
  },
  {
   "cell_type": "markdown",
   "metadata": {},
   "source": [
    "## Visualizing Streaming Data with Plotly"
   ]
  },
  {
   "cell_type": "markdown",
   "metadata": {},
   "source": [
    "### The Basics"
   ]
  },
  {
   "cell_type": "code",
   "execution_count": 1,
   "metadata": {},
   "outputs": [],
   "source": [
    "import zmq\n",
    "from datetime import datetime\n",
    "import plotly.graph_objects as go"
   ]
  },
  {
   "cell_type": "code",
   "execution_count": 2,
   "metadata": {},
   "outputs": [],
   "source": [
    "symbol = 'SYMBOL'"
   ]
  },
  {
   "cell_type": "code",
   "execution_count": 3,
   "metadata": {},
   "outputs": [
    {
     "data": {
      "application/vnd.jupyter.widget-view+json": {
       "model_id": "0f122d74a82b4530ba6ba10cac0c16f0",
       "version_major": 2,
       "version_minor": 0
      },
      "text/plain": [
       "FigureWidget({\n",
       "    'data': [{'type': 'scatter', 'uid': '72048da0-b0cd-431d-9967-953748fdf6d9'}], 'layout': {'template': '...'}\n",
       "})"
      ]
     },
     "execution_count": 3,
     "metadata": {},
     "output_type": "execute_result"
    }
   ],
   "source": [
    "fig = go.FigureWidget()\n",
    "fig.add_scatter()\n",
    "fig"
   ]
  },
  {
   "cell_type": "code",
   "execution_count": 4,
   "metadata": {},
   "outputs": [],
   "source": [
    "context = zmq.Context()"
   ]
  },
  {
   "cell_type": "code",
   "execution_count": 5,
   "metadata": {},
   "outputs": [],
   "source": [
    "socket = context.socket(zmq.SUB)"
   ]
  },
  {
   "cell_type": "code",
   "execution_count": 6,
   "metadata": {},
   "outputs": [
    {
     "data": {
      "text/plain": [
       "<SocketContext(connect='tcp://0.0.0.0:5555')>"
      ]
     },
     "execution_count": 6,
     "metadata": {},
     "output_type": "execute_result"
    }
   ],
   "source": [
    "socket.connect('tcp://0.0.0.0:5555')"
   ]
  },
  {
   "cell_type": "code",
   "execution_count": 7,
   "metadata": {},
   "outputs": [],
   "source": [
    "socket.setsockopt_string(zmq.SUBSCRIBE, 'SYMBOL')"
   ]
  },
  {
   "cell_type": "code",
   "execution_count": 8,
   "metadata": {},
   "outputs": [],
   "source": [
    "times = list()\n",
    "prices = list()"
   ]
  },
  {
   "cell_type": "code",
   "execution_count": 9,
   "metadata": {},
   "outputs": [],
   "source": [
    "for _ in range(50):\n",
    "    msg = socket.recv_string()\n",
    "    t = datetime.now()\n",
    "    times.append(t)\n",
    "    _, price = msg.split()\n",
    "    prices.append(float(price))\n",
    "    fig.data[0].x = times\n",
    "    fig.data[0].y = prices"
   ]
  },
  {
   "cell_type": "code",
   "execution_count": 10,
   "metadata": {},
   "outputs": [
    {
     "data": {
      "application/vnd.jupyter.widget-view+json": {
       "model_id": "fc9b2cf76ae44e008dceff6a212cab25",
       "version_major": 2,
       "version_minor": 0
      },
      "text/plain": [
       "FigureWidget({\n",
       "    'data': [{'name': 'SYMBOL', 'type': 'scatter', 'uid': 'be5d42ab-e9a8-4aa8-b8ad-cf415044e458'},\n",
       "             {'line': {'dash': 'dot', 'width': 1},\n",
       "              'mode': 'lines+markers',\n",
       "              'name': 'SMA1',\n",
       "              'type': 'scatter',\n",
       "              'uid': '8f4df55d-899d-4ac4-afb4-a8973051e8e6'},\n",
       "             {'line': {'dash': 'dash', 'width': 1},\n",
       "              'mode': 'lines+markers',\n",
       "              'name': 'SMA2',\n",
       "              'type': 'scatter',\n",
       "              'uid': 'b3b21479-fec2-4f63-b716-e90fa4ff6c7a'}],\n",
       "    'layout': {'template': '...'}\n",
       "})"
      ]
     },
     "execution_count": 10,
     "metadata": {},
     "output_type": "execute_result"
    }
   ],
   "source": [
    "fig = go.FigureWidget()\n",
    "fig.add_scatter(name='SYMBOL')\n",
    "fig.add_scatter(name='SMA1', line=dict(width=1, dash='dot'),\n",
    "                mode='lines+markers')\n",
    "fig.add_scatter(name='SMA2', line=dict(width=1, dash='dash'),\n",
    "                mode='lines+markers')\n",
    "fig"
   ]
  },
  {
   "cell_type": "code",
   "execution_count": 11,
   "metadata": {},
   "outputs": [],
   "source": [
    "import pandas as pd"
   ]
  },
  {
   "cell_type": "code",
   "execution_count": 12,
   "metadata": {},
   "outputs": [],
   "source": [
    "df = pd.DataFrame()"
   ]
  },
  {
   "cell_type": "code",
   "execution_count": 13,
   "metadata": {},
   "outputs": [],
   "source": [
    "for _ in range(75):\n",
    "    msg = socket.recv_string()\n",
    "    t = datetime.now()\n",
    "    sym, price = msg.split()\n",
    "    df = pd.concat((df, pd.DataFrame({sym: float(price)}, index=[t])))\n",
    "    df['SMA1'] = df[sym].rolling(5).mean()\n",
    "    df['SMA2'] = df[sym].rolling(10).mean()\n",
    "    fig.data[0].x = df.index\n",
    "    fig.data[1].x = df.index\n",
    "    fig.data[2].x = df.index\n",
    "    fig.data[0].y = df[sym]\n",
    "    fig.data[1].y = df['SMA1']\n",
    "    fig.data[2].y = df['SMA2']"
   ]
  },
  {
   "cell_type": "code",
   "execution_count": 14,
   "metadata": {},
   "outputs": [],
   "source": [
    "from plotly.subplots import make_subplots"
   ]
  },
  {
   "cell_type": "code",
   "execution_count": 15,
   "metadata": {},
   "outputs": [],
   "source": [
    "f = make_subplots(rows=3, cols=1, shared_xaxes=True)\n",
    "f.append_trace(go.Scatter(name='SYMBOL'), row=1, col=1)\n",
    "f.append_trace(go.Scatter(name='RETURN', line=dict(width=1, dash='dot'),\n",
    "                mode='lines+markers', marker={'symbol': 'triangle-up'}),\n",
    "                row=2, col=1)\n",
    "f.append_trace(go.Scatter(name='MOMENTUM', line=dict(width=1, dash='dash'),\n",
    "                mode='lines+markers', marker={'symbol': 'x'}), row=3, col=1)\n",
    "# f.update_layout(height=600)"
   ]
  },
  {
   "cell_type": "code",
   "execution_count": 16,
   "metadata": {},
   "outputs": [],
   "source": [
    "fig = go.FigureWidget(f)"
   ]
  },
  {
   "cell_type": "code",
   "execution_count": 17,
   "metadata": {},
   "outputs": [
    {
     "data": {
      "application/vnd.jupyter.widget-view+json": {
       "model_id": "9044b198a9064ce9b03088c2e9331fab",
       "version_major": 2,
       "version_minor": 0
      },
      "text/plain": [
       "FigureWidget({\n",
       "    'data': [{'name': 'SYMBOL',\n",
       "              'type': 'scatter',\n",
       "              'uid': 'f9a86409-0e20-4ee3-a8d9-56e32463e611',\n",
       "              'xaxis': 'x',\n",
       "              'yaxis': 'y'},\n",
       "             {'line': {'dash': 'dot', 'width': 1},\n",
       "              'marker': {'symbol': 'triangle-up'},\n",
       "              'mode': 'lines+markers',\n",
       "              'name': 'RETURN',\n",
       "              'type': 'scatter',\n",
       "              'uid': 'dc707b4b-85a4-4473-b02e-aa6d6dd601e6',\n",
       "              'xaxis': 'x2',\n",
       "              'yaxis': 'y2'},\n",
       "             {'line': {'dash': 'dash', 'width': 1},\n",
       "              'marker': {'symbol': 'x'},\n",
       "              'mode': 'lines+markers',\n",
       "              'name': 'MOMENTUM',\n",
       "              'type': 'scatter',\n",
       "              'uid': '9dd7b5d2-3243-4aea-8e11-e3a2883edf9a',\n",
       "              'xaxis': 'x3',\n",
       "              'yaxis': 'y3'}],\n",
       "    'layout': {'template': '...',\n",
       "               'xaxis': {'anchor': 'y', 'domain': [0.0, 1.0], 'matches': 'x3', 'showticklabels': False},\n",
       "               'xaxis2': {'anchor': 'y2', 'domain': [0.0, 1.0], 'matches': 'x3', 'showticklabels': False},\n",
       "               'xaxis3': {'anchor': 'y3', 'domain': [0.0, 1.0]},\n",
       "               'yaxis': {'anchor': 'x', 'domain': [0.7333333333333333, 1.0]},\n",
       "               'yaxis2': {'anchor': 'x2', 'domain': [0.36666666666666664, 0.6333333333333333]},\n",
       "               'yaxis3': {'anchor': 'x3', 'domain': [0.0, 0.26666666666666666]}}\n",
       "})"
      ]
     },
     "execution_count": 17,
     "metadata": {},
     "output_type": "execute_result"
    }
   ],
   "source": [
    "fig"
   ]
  },
  {
   "cell_type": "code",
   "execution_count": 18,
   "metadata": {},
   "outputs": [],
   "source": [
    "import numpy as np"
   ]
  },
  {
   "cell_type": "code",
   "execution_count": 19,
   "metadata": {},
   "outputs": [],
   "source": [
    "df = pd.DataFrame()"
   ]
  },
  {
   "cell_type": "code",
   "execution_count": 20,
   "metadata": {},
   "outputs": [],
   "source": [
    "for _ in range(75):\n",
    "    msg = socket.recv_string()\n",
    "    t = datetime.now()\n",
    "    sym, price = msg.split()\n",
    "    df = pd.concat((df, pd.DataFrame({sym: float(price)}, index=[t])))\n",
    "    df['RET'] = np.log(df[sym] / df[sym].shift(1))\n",
    "    df['MOM'] = df['RET'].rolling(10).mean()\n",
    "    fig.data[0].x = df.index\n",
    "    fig.data[1].x = df.index\n",
    "    fig.data[2].x = df.index\n",
    "    fig.data[0].y = df[sym]\n",
    "    fig.data[1].y = df['RET']\n",
    "    fig.data[2].y = df['MOM']"
   ]
  },
  {
   "cell_type": "code",
   "execution_count": 21,
   "metadata": {},
   "outputs": [],
   "source": [
    "socket = context.socket(zmq.SUB)"
   ]
  },
  {
   "cell_type": "code",
   "execution_count": 22,
   "metadata": {},
   "outputs": [
    {
     "data": {
      "text/plain": [
       "<SocketContext(connect='tcp://0.0.0.0:5556')>"
      ]
     },
     "execution_count": 22,
     "metadata": {},
     "output_type": "execute_result"
    }
   ],
   "source": [
    "socket.connect('tcp://0.0.0.0:5556')"
   ]
  },
  {
   "cell_type": "code",
   "execution_count": 23,
   "metadata": {},
   "outputs": [],
   "source": [
    "socket.setsockopt_string(zmq.SUBSCRIBE, '')"
   ]
  },
  {
   "cell_type": "code",
   "execution_count": 24,
   "metadata": {},
   "outputs": [
    {
     "name": "stdout",
     "output_type": "stream",
     "text": [
      "48.674 40.853 24.742 27.366 64.037 1.399 32.981 18.008\n",
      "70.966 36.151 78.019 57.747 56.173 77.009 99.554 91.190\n",
      "93.148 47.537 13.005 48.135 31.320 45.457 71.659 30.417\n",
      "30.169 38.787 32.575 93.062 51.436 72.789 74.867 73.174\n",
      "99.071 18.374 62.666 23.443 52.937 52.289 34.678 40.462\n"
     ]
    }
   ],
   "source": [
    "for _ in range(5):\n",
    "    msg = socket.recv_string()\n",
    "    print(msg)"
   ]
  },
  {
   "cell_type": "code",
   "execution_count": 25,
   "metadata": {},
   "outputs": [
    {
     "data": {
      "application/vnd.jupyter.widget-view+json": {
       "model_id": "0280e06f398e4c5781d8451a547019ad",
       "version_major": 2,
       "version_minor": 0
      },
      "text/plain": [
       "FigureWidget({\n",
       "    'data': [{'type': 'bar', 'uid': '359463cd-7a97-42a3-8459-bb67201b11f2'}], 'layout': {'template': '...'}\n",
       "})"
      ]
     },
     "execution_count": 25,
     "metadata": {},
     "output_type": "execute_result"
    }
   ],
   "source": [
    "fig = go.FigureWidget()\n",
    "fig.add_bar()\n",
    "fig"
   ]
  },
  {
   "cell_type": "code",
   "execution_count": 26,
   "metadata": {},
   "outputs": [],
   "source": [
    "x = list('abcdefgh')\n",
    "fig.data[0].x = x\n",
    "for _ in range(100):\n",
    "    msg = socket.recv_string()\n",
    "    y = msg.split()\n",
    "    y = [float(n) for n in y]\n",
    "    fig.data[0].y = y"
   ]
  },
  {
   "cell_type": "markdown",
   "metadata": {},
   "source": [
    "<img src=\"http://hilpisch.com/tpq_logo.png\" alt=\"The Python Quants\" width=\"35%\" align=\"right\" border=\"0\"><br>\n",
    "\n",
    "<a href=\"http://tpq.io\" target=\"_blank\">http://tpq.io</a> | <a href=\"http://twitter.com/dyjh\" target=\"_blank\">@dyjh</a> | <a href=\"mailto:training@tpq.io\">training@tpq.io</a>"
   ]
  }
 ],
 "metadata": {
  "anaconda-cloud": {},
  "kernelspec": {
   "display_name": "Python 3 (ipykernel)",
   "language": "python",
   "name": "python3"
  },
  "language_info": {
   "codemirror_mode": {
    "name": "ipython",
    "version": 3
   },
   "file_extension": ".py",
   "mimetype": "text/x-python",
   "name": "python",
   "nbconvert_exporter": "python",
   "pygments_lexer": "ipython3",
   "version": "3.10.12"
  }
 },
 "nbformat": 4,
 "nbformat_minor": 4
}
