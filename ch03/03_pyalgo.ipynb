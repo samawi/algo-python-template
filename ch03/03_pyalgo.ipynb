{
 "cells": [
  {
   "cell_type": "markdown",
   "metadata": {},
   "source": [
    "<img src=\"http://hilpisch.com/tpq_logo.png\" alt=\"The Python Quants\" width=\"35%\" align=\"right\" border=\"0\"><br>"
   ]
  },
  {
   "cell_type": "markdown",
   "metadata": {},
   "source": [
    "# Python for Algorithmic Trading"
   ]
  },
  {
   "cell_type": "markdown",
   "metadata": {},
   "source": [
    "**Chapter 03 &mdash; Working with Financial Data**"
   ]
  },
  {
   "cell_type": "markdown",
   "metadata": {},
   "source": [
    "## Sample Data Set from Eikon"
   ]
  },
  {
   "cell_type": "markdown",
   "metadata": {},
   "source": [
    "## Reading Financial Data From Different Sources"
   ]
  },
  {
   "cell_type": "markdown",
   "metadata": {},
   "source": [
    "### The Data Set"
   ]
  },
  {
   "cell_type": "code",
   "execution_count": 1,
   "metadata": {},
   "outputs": [],
   "source": [
    "fn = '../data/AAPL.csv'"
   ]
  },
  {
   "cell_type": "code",
   "execution_count": 2,
   "metadata": {},
   "outputs": [
    {
     "name": "stdout",
     "output_type": "stream",
     "text": [
      "Date,HIGH,CLOSE,LOW,OPEN,COUNT,VOLUME\n",
      "2020-04-01,248.72,240.91,239.13,246.5,460606.0,44054638.0\n",
      "2020-04-02,245.15,244.93,236.9,240.34,380294.0,41483493.0\n",
      "2020-04-03,245.7,241.41,238.9741,242.8,293699.0,32470017.0\n",
      "2020-04-06,263.11,262.47,249.38,250.9,486681.0,50455071.0\n"
     ]
    }
   ],
   "source": [
    "with open(fn, 'r') as f:\n",
    "    for _ in range(5):\n",
    "        print(f.readline(), end='')"
   ]
  },
  {
   "cell_type": "markdown",
   "metadata": {},
   "source": [
    "### Reading from a CSV File with Python"
   ]
  },
  {
   "cell_type": "code",
   "execution_count": 3,
   "metadata": {},
   "outputs": [],
   "source": [
    "import csv"
   ]
  },
  {
   "cell_type": "code",
   "execution_count": 4,
   "metadata": {},
   "outputs": [],
   "source": [
    "csv_reader = csv.reader(open(fn, 'r'))"
   ]
  },
  {
   "cell_type": "code",
   "execution_count": 5,
   "metadata": {},
   "outputs": [],
   "source": [
    "data = [l for l in csv_reader]"
   ]
  },
  {
   "cell_type": "code",
   "execution_count": 6,
   "metadata": {},
   "outputs": [
    {
     "data": {
      "text/plain": [
       "[['Date', 'HIGH', 'CLOSE', 'LOW', 'OPEN', 'COUNT', 'VOLUME'],\n",
       " ['2020-04-01',\n",
       "  '248.72',\n",
       "  '240.91',\n",
       "  '239.13',\n",
       "  '246.5',\n",
       "  '460606.0',\n",
       "  '44054638.0'],\n",
       " ['2020-04-02',\n",
       "  '245.15',\n",
       "  '244.93',\n",
       "  '236.9',\n",
       "  '240.34',\n",
       "  '380294.0',\n",
       "  '41483493.0'],\n",
       " ['2020-04-03',\n",
       "  '245.7',\n",
       "  '241.41',\n",
       "  '238.9741',\n",
       "  '242.8',\n",
       "  '293699.0',\n",
       "  '32470017.0'],\n",
       " ['2020-04-06',\n",
       "  '263.11',\n",
       "  '262.47',\n",
       "  '249.38',\n",
       "  '250.9',\n",
       "  '486681.0',\n",
       "  '50455071.0']]"
      ]
     },
     "execution_count": 6,
     "metadata": {},
     "output_type": "execute_result"
    }
   ],
   "source": [
    "data[:5]"
   ]
  },
  {
   "cell_type": "code",
   "execution_count": 7,
   "metadata": {},
   "outputs": [],
   "source": [
    "csv_reader = csv.DictReader(open(fn, 'r'))"
   ]
  },
  {
   "cell_type": "code",
   "execution_count": 8,
   "metadata": {},
   "outputs": [],
   "source": [
    "data = [l for l in csv_reader]"
   ]
  },
  {
   "cell_type": "code",
   "execution_count": 9,
   "metadata": {},
   "outputs": [
    {
     "data": {
      "text/plain": [
       "[{'Date': '2020-04-01',\n",
       "  'HIGH': '248.72',\n",
       "  'CLOSE': '240.91',\n",
       "  'LOW': '239.13',\n",
       "  'OPEN': '246.5',\n",
       "  'COUNT': '460606.0',\n",
       "  'VOLUME': '44054638.0'},\n",
       " {'Date': '2020-04-02',\n",
       "  'HIGH': '245.15',\n",
       "  'CLOSE': '244.93',\n",
       "  'LOW': '236.9',\n",
       "  'OPEN': '240.34',\n",
       "  'COUNT': '380294.0',\n",
       "  'VOLUME': '41483493.0'},\n",
       " {'Date': '2020-04-03',\n",
       "  'HIGH': '245.7',\n",
       "  'CLOSE': '241.41',\n",
       "  'LOW': '238.9741',\n",
       "  'OPEN': '242.8',\n",
       "  'COUNT': '293699.0',\n",
       "  'VOLUME': '32470017.0'}]"
      ]
     },
     "execution_count": 9,
     "metadata": {},
     "output_type": "execute_result"
    }
   ],
   "source": [
    "data[:3]"
   ]
  },
  {
   "cell_type": "code",
   "execution_count": 10,
   "metadata": {},
   "outputs": [
    {
     "data": {
      "text/plain": [
       "272.38619047619045"
      ]
     },
     "execution_count": 10,
     "metadata": {},
     "output_type": "execute_result"
    }
   ],
   "source": [
    "sum([float(l['CLOSE']) for l in data]) / len(data)"
   ]
  },
  {
   "cell_type": "markdown",
   "metadata": {},
   "source": [
    "### Reading from a CSV File with pandas"
   ]
  },
  {
   "cell_type": "code",
   "execution_count": 11,
   "metadata": {},
   "outputs": [],
   "source": [
    "import pandas as pd"
   ]
  },
  {
   "cell_type": "code",
   "execution_count": 12,
   "metadata": {},
   "outputs": [],
   "source": [
    "data = pd.read_csv(fn, index_col=0,\n",
    "                   parse_dates=True)"
   ]
  },
  {
   "cell_type": "code",
   "execution_count": 13,
   "metadata": {},
   "outputs": [
    {
     "name": "stdout",
     "output_type": "stream",
     "text": [
      "<class 'pandas.core.frame.DataFrame'>\n",
      "DatetimeIndex: 21 entries, 2020-04-01 to 2020-04-30\n",
      "Data columns (total 6 columns):\n",
      " #   Column  Non-Null Count  Dtype  \n",
      "---  ------  --------------  -----  \n",
      " 0   HIGH    21 non-null     float64\n",
      " 1   CLOSE   21 non-null     float64\n",
      " 2   LOW     21 non-null     float64\n",
      " 3   OPEN    21 non-null     float64\n",
      " 4   COUNT   21 non-null     float64\n",
      " 5   VOLUME  21 non-null     float64\n",
      "dtypes: float64(6)\n",
      "memory usage: 1.1 KB\n"
     ]
    }
   ],
   "source": [
    "data.info()"
   ]
  },
  {
   "cell_type": "code",
   "execution_count": 14,
   "metadata": {},
   "outputs": [
    {
     "data": {
      "text/html": [
       "<div>\n",
       "<style scoped>\n",
       "    .dataframe tbody tr th:only-of-type {\n",
       "        vertical-align: middle;\n",
       "    }\n",
       "\n",
       "    .dataframe tbody tr th {\n",
       "        vertical-align: top;\n",
       "    }\n",
       "\n",
       "    .dataframe thead th {\n",
       "        text-align: right;\n",
       "    }\n",
       "</style>\n",
       "<table border=\"1\" class=\"dataframe\">\n",
       "  <thead>\n",
       "    <tr style=\"text-align: right;\">\n",
       "      <th></th>\n",
       "      <th>HIGH</th>\n",
       "      <th>CLOSE</th>\n",
       "      <th>LOW</th>\n",
       "      <th>OPEN</th>\n",
       "      <th>COUNT</th>\n",
       "      <th>VOLUME</th>\n",
       "    </tr>\n",
       "    <tr>\n",
       "      <th>Date</th>\n",
       "      <th></th>\n",
       "      <th></th>\n",
       "      <th></th>\n",
       "      <th></th>\n",
       "      <th></th>\n",
       "      <th></th>\n",
       "    </tr>\n",
       "  </thead>\n",
       "  <tbody>\n",
       "    <tr>\n",
       "      <th>2020-04-24</th>\n",
       "      <td>283.01</td>\n",
       "      <td>282.97</td>\n",
       "      <td>277.00</td>\n",
       "      <td>277.20</td>\n",
       "      <td>306176.0</td>\n",
       "      <td>31627183.0</td>\n",
       "    </tr>\n",
       "    <tr>\n",
       "      <th>2020-04-27</th>\n",
       "      <td>284.54</td>\n",
       "      <td>283.17</td>\n",
       "      <td>279.95</td>\n",
       "      <td>281.80</td>\n",
       "      <td>300771.0</td>\n",
       "      <td>29271893.0</td>\n",
       "    </tr>\n",
       "    <tr>\n",
       "      <th>2020-04-28</th>\n",
       "      <td>285.83</td>\n",
       "      <td>278.58</td>\n",
       "      <td>278.20</td>\n",
       "      <td>285.08</td>\n",
       "      <td>285384.0</td>\n",
       "      <td>28001187.0</td>\n",
       "    </tr>\n",
       "    <tr>\n",
       "      <th>2020-04-29</th>\n",
       "      <td>289.67</td>\n",
       "      <td>287.73</td>\n",
       "      <td>283.89</td>\n",
       "      <td>284.73</td>\n",
       "      <td>324890.0</td>\n",
       "      <td>34320204.0</td>\n",
       "    </tr>\n",
       "    <tr>\n",
       "      <th>2020-04-30</th>\n",
       "      <td>294.53</td>\n",
       "      <td>293.80</td>\n",
       "      <td>288.35</td>\n",
       "      <td>289.96</td>\n",
       "      <td>471129.0</td>\n",
       "      <td>45765968.0</td>\n",
       "    </tr>\n",
       "  </tbody>\n",
       "</table>\n",
       "</div>"
      ],
      "text/plain": [
       "              HIGH   CLOSE     LOW    OPEN     COUNT      VOLUME\n",
       "Date                                                            \n",
       "2020-04-24  283.01  282.97  277.00  277.20  306176.0  31627183.0\n",
       "2020-04-27  284.54  283.17  279.95  281.80  300771.0  29271893.0\n",
       "2020-04-28  285.83  278.58  278.20  285.08  285384.0  28001187.0\n",
       "2020-04-29  289.67  287.73  283.89  284.73  324890.0  34320204.0\n",
       "2020-04-30  294.53  293.80  288.35  289.96  471129.0  45765968.0"
      ]
     },
     "execution_count": 14,
     "metadata": {},
     "output_type": "execute_result"
    }
   ],
   "source": [
    "data.tail()"
   ]
  },
  {
   "cell_type": "code",
   "execution_count": 15,
   "metadata": {},
   "outputs": [
    {
     "data": {
      "text/plain": [
       "272.38619047619056"
      ]
     },
     "execution_count": 15,
     "metadata": {},
     "output_type": "execute_result"
    }
   ],
   "source": [
    "data['CLOSE'].mean()"
   ]
  },
  {
   "cell_type": "markdown",
   "metadata": {},
   "source": [
    "### Exporting to Excel and JSON"
   ]
  },
  {
   "cell_type": "markdown",
   "metadata": {},
   "source": [
    "Create the local `data` folder if necessary via\n",
    "\n",
    "    !mkdir data"
   ]
  },
  {
   "cell_type": "code",
   "execution_count": 16,
   "metadata": {},
   "outputs": [],
   "source": [
    "data.to_excel('data/aapl.xlsx', 'AAPL')"
   ]
  },
  {
   "cell_type": "code",
   "execution_count": 17,
   "metadata": {},
   "outputs": [],
   "source": [
    "data.to_json('data/aapl.json')"
   ]
  },
  {
   "cell_type": "code",
   "execution_count": 18,
   "metadata": {},
   "outputs": [
    {
     "name": "stdout",
     "output_type": "stream",
     "text": [
      "total 24\n",
      "-rw-r--r--  1 501  20  3067 Feb 21 20:46 aapl.json\n",
      "-rw-r--r--  1 501  20  6077 Feb 21 20:45 aapl.xlsx\n",
      "-rw-r--r--  1 501  20     0 Feb 21 19:58 placeholder.txt\n"
     ]
    }
   ],
   "source": [
    "ls -n data/"
   ]
  },
  {
   "cell_type": "markdown",
   "metadata": {},
   "source": [
    "### Reading from Excel and JSON"
   ]
  },
  {
   "cell_type": "code",
   "execution_count": 19,
   "metadata": {},
   "outputs": [],
   "source": [
    "data_copy_1 = pd.read_excel('data/aapl.xlsx', 'AAPL',\n",
    "                            index_col=0)"
   ]
  },
  {
   "cell_type": "code",
   "execution_count": 20,
   "metadata": {},
   "outputs": [
    {
     "data": {
      "text/html": [
       "<div>\n",
       "<style scoped>\n",
       "    .dataframe tbody tr th:only-of-type {\n",
       "        vertical-align: middle;\n",
       "    }\n",
       "\n",
       "    .dataframe tbody tr th {\n",
       "        vertical-align: top;\n",
       "    }\n",
       "\n",
       "    .dataframe thead th {\n",
       "        text-align: right;\n",
       "    }\n",
       "</style>\n",
       "<table border=\"1\" class=\"dataframe\">\n",
       "  <thead>\n",
       "    <tr style=\"text-align: right;\">\n",
       "      <th></th>\n",
       "      <th>HIGH</th>\n",
       "      <th>CLOSE</th>\n",
       "      <th>LOW</th>\n",
       "      <th>OPEN</th>\n",
       "      <th>COUNT</th>\n",
       "      <th>VOLUME</th>\n",
       "    </tr>\n",
       "    <tr>\n",
       "      <th>Date</th>\n",
       "      <th></th>\n",
       "      <th></th>\n",
       "      <th></th>\n",
       "      <th></th>\n",
       "      <th></th>\n",
       "      <th></th>\n",
       "    </tr>\n",
       "  </thead>\n",
       "  <tbody>\n",
       "    <tr>\n",
       "      <th>2020-04-01</th>\n",
       "      <td>248.72</td>\n",
       "      <td>240.91</td>\n",
       "      <td>239.1300</td>\n",
       "      <td>246.50</td>\n",
       "      <td>460606</td>\n",
       "      <td>44054638</td>\n",
       "    </tr>\n",
       "    <tr>\n",
       "      <th>2020-04-02</th>\n",
       "      <td>245.15</td>\n",
       "      <td>244.93</td>\n",
       "      <td>236.9000</td>\n",
       "      <td>240.34</td>\n",
       "      <td>380294</td>\n",
       "      <td>41483493</td>\n",
       "    </tr>\n",
       "    <tr>\n",
       "      <th>2020-04-03</th>\n",
       "      <td>245.70</td>\n",
       "      <td>241.41</td>\n",
       "      <td>238.9741</td>\n",
       "      <td>242.80</td>\n",
       "      <td>293699</td>\n",
       "      <td>32470017</td>\n",
       "    </tr>\n",
       "    <tr>\n",
       "      <th>2020-04-06</th>\n",
       "      <td>263.11</td>\n",
       "      <td>262.47</td>\n",
       "      <td>249.3800</td>\n",
       "      <td>250.90</td>\n",
       "      <td>486681</td>\n",
       "      <td>50455071</td>\n",
       "    </tr>\n",
       "    <tr>\n",
       "      <th>2020-04-07</th>\n",
       "      <td>271.70</td>\n",
       "      <td>259.43</td>\n",
       "      <td>259.0000</td>\n",
       "      <td>270.80</td>\n",
       "      <td>467375</td>\n",
       "      <td>50721831</td>\n",
       "    </tr>\n",
       "  </tbody>\n",
       "</table>\n",
       "</div>"
      ],
      "text/plain": [
       "              HIGH   CLOSE       LOW    OPEN   COUNT    VOLUME\n",
       "Date                                                          \n",
       "2020-04-01  248.72  240.91  239.1300  246.50  460606  44054638\n",
       "2020-04-02  245.15  244.93  236.9000  240.34  380294  41483493\n",
       "2020-04-03  245.70  241.41  238.9741  242.80  293699  32470017\n",
       "2020-04-06  263.11  262.47  249.3800  250.90  486681  50455071\n",
       "2020-04-07  271.70  259.43  259.0000  270.80  467375  50721831"
      ]
     },
     "execution_count": 20,
     "metadata": {},
     "output_type": "execute_result"
    }
   ],
   "source": [
    "data_copy_1.head()"
   ]
  },
  {
   "cell_type": "code",
   "execution_count": 21,
   "metadata": {},
   "outputs": [],
   "source": [
    "data_copy_2 = pd.read_json('data/aapl.json')"
   ]
  },
  {
   "cell_type": "code",
   "execution_count": 22,
   "metadata": {},
   "outputs": [
    {
     "data": {
      "text/html": [
       "<div>\n",
       "<style scoped>\n",
       "    .dataframe tbody tr th:only-of-type {\n",
       "        vertical-align: middle;\n",
       "    }\n",
       "\n",
       "    .dataframe tbody tr th {\n",
       "        vertical-align: top;\n",
       "    }\n",
       "\n",
       "    .dataframe thead th {\n",
       "        text-align: right;\n",
       "    }\n",
       "</style>\n",
       "<table border=\"1\" class=\"dataframe\">\n",
       "  <thead>\n",
       "    <tr style=\"text-align: right;\">\n",
       "      <th></th>\n",
       "      <th>HIGH</th>\n",
       "      <th>CLOSE</th>\n",
       "      <th>LOW</th>\n",
       "      <th>OPEN</th>\n",
       "      <th>COUNT</th>\n",
       "      <th>VOLUME</th>\n",
       "    </tr>\n",
       "  </thead>\n",
       "  <tbody>\n",
       "    <tr>\n",
       "      <th>2020-04-01</th>\n",
       "      <td>248.72</td>\n",
       "      <td>240.91</td>\n",
       "      <td>239.1300</td>\n",
       "      <td>246.50</td>\n",
       "      <td>460606</td>\n",
       "      <td>44054638</td>\n",
       "    </tr>\n",
       "    <tr>\n",
       "      <th>2020-04-02</th>\n",
       "      <td>245.15</td>\n",
       "      <td>244.93</td>\n",
       "      <td>236.9000</td>\n",
       "      <td>240.34</td>\n",
       "      <td>380294</td>\n",
       "      <td>41483493</td>\n",
       "    </tr>\n",
       "    <tr>\n",
       "      <th>2020-04-03</th>\n",
       "      <td>245.70</td>\n",
       "      <td>241.41</td>\n",
       "      <td>238.9741</td>\n",
       "      <td>242.80</td>\n",
       "      <td>293699</td>\n",
       "      <td>32470017</td>\n",
       "    </tr>\n",
       "    <tr>\n",
       "      <th>2020-04-06</th>\n",
       "      <td>263.11</td>\n",
       "      <td>262.47</td>\n",
       "      <td>249.3800</td>\n",
       "      <td>250.90</td>\n",
       "      <td>486681</td>\n",
       "      <td>50455071</td>\n",
       "    </tr>\n",
       "    <tr>\n",
       "      <th>2020-04-07</th>\n",
       "      <td>271.70</td>\n",
       "      <td>259.43</td>\n",
       "      <td>259.0000</td>\n",
       "      <td>270.80</td>\n",
       "      <td>467375</td>\n",
       "      <td>50721831</td>\n",
       "    </tr>\n",
       "  </tbody>\n",
       "</table>\n",
       "</div>"
      ],
      "text/plain": [
       "              HIGH   CLOSE       LOW    OPEN   COUNT    VOLUME\n",
       "2020-04-01  248.72  240.91  239.1300  246.50  460606  44054638\n",
       "2020-04-02  245.15  244.93  236.9000  240.34  380294  41483493\n",
       "2020-04-03  245.70  241.41  238.9741  242.80  293699  32470017\n",
       "2020-04-06  263.11  262.47  249.3800  250.90  486681  50455071\n",
       "2020-04-07  271.70  259.43  259.0000  270.80  467375  50721831"
      ]
     },
     "execution_count": 22,
     "metadata": {},
     "output_type": "execute_result"
    }
   ],
   "source": [
    "data_copy_2.head()"
   ]
  },
  {
   "cell_type": "code",
   "execution_count": 23,
   "metadata": {},
   "outputs": [],
   "source": [
    "!rm data/aapl.*"
   ]
  },
  {
   "cell_type": "markdown",
   "metadata": {},
   "source": [
    "## Working with Open Data Sources"
   ]
  },
  {
   "cell_type": "code",
   "execution_count": 24,
   "metadata": {},
   "outputs": [
    {
     "data": {
      "text/plain": [
       "['../pyalgo.cfg']"
      ]
     },
     "execution_count": 24,
     "metadata": {},
     "output_type": "execute_result"
    }
   ],
   "source": [
    "import configparser\n",
    "config = configparser.ConfigParser()\n",
    "config.read('../pyalgo.cfg')"
   ]
  },
  {
   "cell_type": "code",
   "execution_count": 25,
   "metadata": {},
   "outputs": [],
   "source": [
    "import quandl as q"
   ]
  },
  {
   "cell_type": "code",
   "execution_count": 26,
   "metadata": {},
   "outputs": [],
   "source": [
    "data = q.get('BCHAIN/MKPRU', api_key=config['quandl']['api_key'])"
   ]
  },
  {
   "cell_type": "code",
   "execution_count": 27,
   "metadata": {},
   "outputs": [
    {
     "name": "stdout",
     "output_type": "stream",
     "text": [
      "<class 'pandas.core.frame.DataFrame'>\n",
      "DatetimeIndex: 5485 entries, 2009-01-02 to 2024-01-08\n",
      "Data columns (total 1 columns):\n",
      " #   Column  Non-Null Count  Dtype  \n",
      "---  ------  --------------  -----  \n",
      " 0   Value   5485 non-null   float64\n",
      "dtypes: float64(1)\n",
      "memory usage: 85.7 KB\n"
     ]
    }
   ],
   "source": [
    "data.info()"
   ]
  },
  {
   "cell_type": "code",
   "execution_count": 28,
   "metadata": {},
   "outputs": [
    {
     "data": {
      "text/plain": [
       "Date\n",
       "2009-12-31        0.000000\n",
       "2010-12-31        0.299998\n",
       "2011-12-31        4.470000\n",
       "2012-12-31       13.570000\n",
       "2013-12-31      746.900000\n",
       "2014-12-31      315.700000\n",
       "2015-12-31      428.230000\n",
       "2016-12-31      958.120000\n",
       "2017-12-31    14165.575000\n",
       "2018-12-31     3791.545833\n",
       "2019-12-31     7219.600000\n",
       "2020-12-31    28856.590000\n",
       "2021-12-31    47132.960000\n",
       "2022-12-31    16599.690000\n",
       "2023-12-31    42148.380000\n",
       "2024-12-31    43928.070000\n",
       "Freq: A-DEC, Name: Value, dtype: float64"
      ]
     },
     "execution_count": 28,
     "metadata": {},
     "output_type": "execute_result"
    }
   ],
   "source": [
    "data['Value'].resample('A').last()"
   ]
  },
  {
   "cell_type": "code",
   "execution_count": 29,
   "metadata": {},
   "outputs": [],
   "source": [
    "data = q.get('FSE/SAP_X', start_date='2018-1-1',\n",
    "             end_date='2023-10-01',\n",
    "             api_key=config['quandl']['api_key'])"
   ]
  },
  {
   "cell_type": "code",
   "execution_count": 30,
   "metadata": {},
   "outputs": [
    {
     "name": "stdout",
     "output_type": "stream",
     "text": [
      "<class 'pandas.core.frame.DataFrame'>\n",
      "DatetimeIndex: 730 entries, 2018-01-02 to 2020-12-01\n",
      "Data columns (total 10 columns):\n",
      " #   Column                 Non-Null Count  Dtype  \n",
      "---  ------                 --------------  -----  \n",
      " 0   Open                   408 non-null    float64\n",
      " 1   High                   730 non-null    float64\n",
      " 2   Low                    730 non-null    float64\n",
      " 3   Close                  730 non-null    float64\n",
      " 4   Change                 0 non-null      object \n",
      " 5   Traded Volume          684 non-null    float64\n",
      " 6   Turnover               684 non-null    float64\n",
      " 7   Last Price of the Day  0 non-null      object \n",
      " 8   Daily Traded Units     0 non-null      object \n",
      " 9   Daily Turnover         0 non-null      object \n",
      "dtypes: float64(6), object(4)\n",
      "memory usage: 62.7+ KB\n"
     ]
    }
   ],
   "source": [
    "data.info()"
   ]
  },
  {
   "cell_type": "code",
   "execution_count": 31,
   "metadata": {},
   "outputs": [],
   "source": [
    "q.ApiConfig.api_key = config['quandl']['api_key']"
   ]
  },
  {
   "cell_type": "code",
   "execution_count": null,
   "metadata": {},
   "outputs": [],
   "source": [
    "# vol = q.get('VOL/MSFT') # for paid subscribers"
   ]
  },
  {
   "cell_type": "code",
   "execution_count": null,
   "metadata": {},
   "outputs": [],
   "source": [
    "# vol.iloc[:, :10].info() # for paid subscribers"
   ]
  },
  {
   "cell_type": "code",
   "execution_count": null,
   "metadata": {},
   "outputs": [],
   "source": [
    "# vol[['IvMean30', 'IvMean60', 'IvMean90']].tail() # for paid subscribers"
   ]
  },
  {
   "cell_type": "markdown",
   "metadata": {},
   "source": [
    "## Refinitiv Eikon Data API"
   ]
  },
  {
   "cell_type": "markdown",
   "metadata": {},
   "source": [
    "`pip install eikon` &mdash; Requires a paid subscription."
   ]
  },
  {
   "cell_type": "code",
   "execution_count": null,
   "metadata": {},
   "outputs": [],
   "source": [
    "import eikon as ek"
   ]
  },
  {
   "cell_type": "code",
   "execution_count": null,
   "metadata": {},
   "outputs": [],
   "source": [
    "ek.set_app_key(config['eikon']['app_key'])"
   ]
  },
  {
   "cell_type": "code",
   "execution_count": null,
   "metadata": {},
   "outputs": [],
   "source": [
    "help(ek)"
   ]
  },
  {
   "cell_type": "markdown",
   "metadata": {},
   "source": [
    "### Retrieving Historical Structured Data"
   ]
  },
  {
   "cell_type": "code",
   "execution_count": null,
   "metadata": {},
   "outputs": [],
   "source": [
    "import warnings; warnings.simplefilter('ignore')"
   ]
  },
  {
   "cell_type": "code",
   "execution_count": null,
   "metadata": {},
   "outputs": [],
   "source": [
    "symbols = ['AAPL.O', 'MSFT.O', 'GOOG.O']"
   ]
  },
  {
   "cell_type": "code",
   "execution_count": null,
   "metadata": {},
   "outputs": [],
   "source": [
    "data = ek.get_timeseries(symbols,\n",
    "                         start_date='2023-01-01',\n",
    "                         end_date='2023-05-01',\n",
    "                         interval='daily',\n",
    "                         fields=['*'])"
   ]
  },
  {
   "cell_type": "code",
   "execution_count": null,
   "metadata": {},
   "outputs": [],
   "source": [
    "data.keys()"
   ]
  },
  {
   "cell_type": "code",
   "execution_count": null,
   "metadata": {},
   "outputs": [],
   "source": [
    "type(data['AAPL.O'])"
   ]
  },
  {
   "cell_type": "code",
   "execution_count": null,
   "metadata": {},
   "outputs": [],
   "source": [
    "data['AAPL.O'].info()"
   ]
  },
  {
   "cell_type": "code",
   "execution_count": null,
   "metadata": {},
   "outputs": [],
   "source": [
    "data['AAPL.O'].tail()"
   ]
  },
  {
   "cell_type": "code",
   "execution_count": null,
   "metadata": {},
   "outputs": [],
   "source": [
    "%%time\n",
    "data = ek.get_timeseries(symbols,\n",
    "                         start_date='2023-05-05',\n",
    "                         end_date='2023-05-06',\n",
    "                         interval='minute',\n",
    "                         fields='*')"
   ]
  },
  {
   "cell_type": "code",
   "execution_count": null,
   "metadata": {},
   "outputs": [],
   "source": [
    "print(data['GOOG.O'].loc['2023-05-05 16:00:00':\n",
    "                         '2023-05-05 16:04:00'].round(1))"
   ]
  },
  {
   "cell_type": "code",
   "execution_count": null,
   "metadata": {},
   "outputs": [],
   "source": [
    "for sym in symbols:\n",
    "    print('\\n' + sym + '\\n', data[sym].iloc[-300:-295].round(1))"
   ]
  },
  {
   "cell_type": "code",
   "execution_count": null,
   "metadata": {},
   "outputs": [],
   "source": [
    "%%time\n",
    "data = ek.get_timeseries(symbols[0],\n",
    "                         start_date='2023-09-05 15:00:00',\n",
    "                         end_date='2023-09-05 15:30:00',\n",
    "                         interval='tick',\n",
    "                         fields=['*'])"
   ]
  },
  {
   "cell_type": "code",
   "execution_count": null,
   "metadata": {},
   "outputs": [],
   "source": [
    "data.info()"
   ]
  },
  {
   "cell_type": "code",
   "execution_count": null,
   "metadata": {},
   "outputs": [],
   "source": [
    "data.head()"
   ]
  },
  {
   "cell_type": "code",
   "execution_count": null,
   "metadata": {},
   "outputs": [],
   "source": [
    "resampled = data.resample('30s', label='right').agg(\n",
    "            {'VALUE': 'last', 'VOLUME': 'sum'}) # <6>"
   ]
  },
  {
   "cell_type": "code",
   "execution_count": null,
   "metadata": {},
   "outputs": [],
   "source": [
    "resampled.tail()"
   ]
  },
  {
   "cell_type": "markdown",
   "metadata": {},
   "source": [
    "### Retrieving Historical Unstructured Data"
   ]
  },
  {
   "cell_type": "code",
   "execution_count": null,
   "metadata": {},
   "outputs": [],
   "source": [
    "headlines = ek.get_news_headlines(query='R:AAPL.O macbook',\n",
    "                                  count=5,\n",
    "                                  date_from='2023-1-1',\n",
    "                                  date_to='2023-5-1')"
   ]
  },
  {
   "cell_type": "code",
   "execution_count": null,
   "metadata": {},
   "outputs": [],
   "source": [
    "headlines"
   ]
  },
  {
   "cell_type": "code",
   "execution_count": null,
   "metadata": {},
   "outputs": [],
   "source": [
    "story = headlines.iloc[1]"
   ]
  },
  {
   "cell_type": "code",
   "execution_count": null,
   "metadata": {},
   "outputs": [],
   "source": [
    "story"
   ]
  },
  {
   "cell_type": "code",
   "execution_count": null,
   "metadata": {},
   "outputs": [],
   "source": [
    "news_text = ek.get_news_story(story['storyId'])"
   ]
  },
  {
   "cell_type": "code",
   "execution_count": null,
   "metadata": {},
   "outputs": [],
   "source": [
    "from IPython.display import HTML"
   ]
  },
  {
   "cell_type": "code",
   "execution_count": null,
   "metadata": {},
   "outputs": [],
   "source": [
    "HTML(news_text)"
   ]
  },
  {
   "cell_type": "markdown",
   "metadata": {},
   "source": [
    "## Storing Financial Data Efficiently"
   ]
  },
  {
   "cell_type": "markdown",
   "metadata": {},
   "source": [
    "### Storing DataFrame Objects"
   ]
  },
  {
   "cell_type": "code",
   "execution_count": 33,
   "metadata": {},
   "outputs": [],
   "source": [
    "from sample_data import generate_sample_data"
   ]
  },
  {
   "cell_type": "code",
   "execution_count": 34,
   "metadata": {},
   "outputs": [
    {
     "name": "stdout",
     "output_type": "stream",
     "text": [
      "                            No0         No1         No2         No3\n",
      "2021-01-01 00:00:00  100.000000  100.000000  100.000000  100.000000\n",
      "2021-01-01 00:01:00   99.902216   99.934274   99.974010  100.063213\n",
      "2021-01-01 00:02:00   99.909456   99.881597   99.933825  100.160535\n",
      "2021-01-01 00:03:00   99.955194   99.865699   99.866263  100.155404\n",
      "2021-01-01 00:04:00   99.984414   99.820536   99.859206  100.153880\n"
     ]
    }
   ],
   "source": [
    "print(generate_sample_data(rows=5, cols=4))"
   ]
  },
  {
   "cell_type": "code",
   "execution_count": 35,
   "metadata": {},
   "outputs": [
    {
     "name": "stdout",
     "output_type": "stream",
     "text": [
      "CPU times: user 1.17 s, sys: 226 ms, total: 1.39 s\n",
      "Wall time: 1.44 s\n"
     ]
    }
   ],
   "source": [
    "%time data = generate_sample_data(rows=5e6, cols=10).round(4)"
   ]
  },
  {
   "cell_type": "code",
   "execution_count": 36,
   "metadata": {},
   "outputs": [
    {
     "name": "stdout",
     "output_type": "stream",
     "text": [
      "<class 'pandas.core.frame.DataFrame'>\n",
      "DatetimeIndex: 5000000 entries, 2021-01-01 00:00:00 to 2030-07-05 05:19:00\n",
      "Freq: T\n",
      "Data columns (total 10 columns):\n",
      " #   Column  Dtype  \n",
      "---  ------  -----  \n",
      " 0   No0     float64\n",
      " 1   No1     float64\n",
      " 2   No2     float64\n",
      " 3   No3     float64\n",
      " 4   No4     float64\n",
      " 5   No5     float64\n",
      " 6   No6     float64\n",
      " 7   No7     float64\n",
      " 8   No8     float64\n",
      " 9   No9     float64\n",
      "dtypes: float64(10)\n",
      "memory usage: 419.6 MB\n"
     ]
    }
   ],
   "source": [
    "data.info()"
   ]
  },
  {
   "cell_type": "code",
   "execution_count": 37,
   "metadata": {},
   "outputs": [],
   "source": [
    "h5 = pd.HDFStore('data/data.h5', 'w')"
   ]
  },
  {
   "cell_type": "code",
   "execution_count": 38,
   "metadata": {},
   "outputs": [
    {
     "name": "stdout",
     "output_type": "stream",
     "text": [
      "CPU times: user 5.17 ms, sys: 35.7 ms, total: 40.9 ms\n",
      "Wall time: 183 ms\n"
     ]
    }
   ],
   "source": [
    "%time h5['data'] = data"
   ]
  },
  {
   "cell_type": "code",
   "execution_count": 39,
   "metadata": {},
   "outputs": [
    {
     "data": {
      "text/plain": [
       "<class 'pandas.io.pytables.HDFStore'>\n",
       "File path: data/data.h5"
      ]
     },
     "execution_count": 39,
     "metadata": {},
     "output_type": "execute_result"
    }
   ],
   "source": [
    "h5"
   ]
  },
  {
   "cell_type": "code",
   "execution_count": 40,
   "metadata": {},
   "outputs": [
    {
     "name": "stdout",
     "output_type": "stream",
     "text": [
      "-rw-r--r--  1 501  20  440007240 Feb 21 20:55 data/data.h5\n"
     ]
    }
   ],
   "source": [
    "ls -n data/data.*"
   ]
  },
  {
   "cell_type": "code",
   "execution_count": 41,
   "metadata": {},
   "outputs": [],
   "source": [
    "h5.close()"
   ]
  },
  {
   "cell_type": "code",
   "execution_count": 42,
   "metadata": {},
   "outputs": [],
   "source": [
    "h5 = pd.HDFStore('data/data.h5', 'r')"
   ]
  },
  {
   "cell_type": "code",
   "execution_count": 43,
   "metadata": {},
   "outputs": [
    {
     "name": "stdout",
     "output_type": "stream",
     "text": [
      "CPU times: user 98.3 ms, sys: 138 ms, total: 237 ms\n",
      "Wall time: 329 ms\n"
     ]
    }
   ],
   "source": [
    "%time data_copy = h5['data']"
   ]
  },
  {
   "cell_type": "code",
   "execution_count": 44,
   "metadata": {},
   "outputs": [
    {
     "name": "stdout",
     "output_type": "stream",
     "text": [
      "<class 'pandas.core.frame.DataFrame'>\n",
      "DatetimeIndex: 5000000 entries, 2021-01-01 00:00:00 to 2030-07-05 05:19:00\n",
      "Freq: T\n",
      "Data columns (total 10 columns):\n",
      " #   Column  Dtype  \n",
      "---  ------  -----  \n",
      " 0   No0     float64\n",
      " 1   No1     float64\n",
      " 2   No2     float64\n",
      " 3   No3     float64\n",
      " 4   No4     float64\n",
      " 5   No5     float64\n",
      " 6   No6     float64\n",
      " 7   No7     float64\n",
      " 8   No8     float64\n",
      " 9   No9     float64\n",
      "dtypes: float64(10)\n",
      "memory usage: 419.6 MB\n"
     ]
    }
   ],
   "source": [
    "data_copy.info()"
   ]
  },
  {
   "cell_type": "code",
   "execution_count": 45,
   "metadata": {},
   "outputs": [],
   "source": [
    "h5.close()"
   ]
  },
  {
   "cell_type": "code",
   "execution_count": 46,
   "metadata": {},
   "outputs": [],
   "source": [
    "rm data/data.h5"
   ]
  },
  {
   "cell_type": "code",
   "execution_count": 47,
   "metadata": {},
   "outputs": [
    {
     "name": "stdout",
     "output_type": "stream",
     "text": [
      "CPU times: user 1.53 s, sys: 364 ms, total: 1.89 s\n",
      "Wall time: 2.02 s\n"
     ]
    }
   ],
   "source": [
    "%time data.to_hdf('data/data.h5', 'data', format='table')"
   ]
  },
  {
   "cell_type": "code",
   "execution_count": 48,
   "metadata": {},
   "outputs": [
    {
     "name": "stdout",
     "output_type": "stream",
     "text": [
      "-rw-r--r--  1 501  20  446953369 Feb 21 20:56 data/data.h5\n"
     ]
    }
   ],
   "source": [
    "ls -n data/data.*"
   ]
  },
  {
   "cell_type": "code",
   "execution_count": 49,
   "metadata": {},
   "outputs": [
    {
     "name": "stdout",
     "output_type": "stream",
     "text": [
      "CPU times: user 70.1 ms, sys: 144 ms, total: 214 ms\n",
      "Wall time: 280 ms\n"
     ]
    }
   ],
   "source": [
    "%time data_copy = pd.read_hdf('data/data.h5', 'data')"
   ]
  },
  {
   "cell_type": "code",
   "execution_count": 50,
   "metadata": {},
   "outputs": [
    {
     "name": "stdout",
     "output_type": "stream",
     "text": [
      "<class 'pandas.core.frame.DataFrame'>\n",
      "DatetimeIndex: 5000000 entries, 2021-01-01 00:00:00 to 2030-07-05 05:19:00\n",
      "Freq: T\n",
      "Data columns (total 10 columns):\n",
      " #   Column  Dtype  \n",
      "---  ------  -----  \n",
      " 0   No0     float64\n",
      " 1   No1     float64\n",
      " 2   No2     float64\n",
      " 3   No3     float64\n",
      " 4   No4     float64\n",
      " 5   No5     float64\n",
      " 6   No6     float64\n",
      " 7   No7     float64\n",
      " 8   No8     float64\n",
      " 9   No9     float64\n",
      "dtypes: float64(10)\n",
      "memory usage: 419.6 MB\n"
     ]
    }
   ],
   "source": [
    "data_copy.info()"
   ]
  },
  {
   "cell_type": "code",
   "execution_count": 51,
   "metadata": {},
   "outputs": [],
   "source": [
    "import tables as tb"
   ]
  },
  {
   "cell_type": "code",
   "execution_count": 52,
   "metadata": {},
   "outputs": [],
   "source": [
    "h5 = tb.open_file('data/data.h5', 'r')"
   ]
  },
  {
   "cell_type": "code",
   "execution_count": 53,
   "metadata": {},
   "outputs": [
    {
     "data": {
      "text/plain": [
       "File(filename=data/data.h5, title='', mode='r', root_uep='/', filters=Filters(complevel=0, shuffle=False, bitshuffle=False, fletcher32=False, least_significant_digit=None))\n",
       "/ (RootGroup) ''\n",
       "/data (Group) ''\n",
       "/data/table (Table(5000000,)) ''\n",
       "  description := {\n",
       "  \"index\": Int64Col(shape=(), dflt=0, pos=0),\n",
       "  \"values_block_0\": Float64Col(shape=(10,), dflt=0.0, pos=1)}\n",
       "  byteorder := 'little'\n",
       "  chunkshape := (2978,)\n",
       "  autoindex := True\n",
       "  colindexes := {\n",
       "    \"index\": Index(6, mediumshuffle, zlib(1)).is_csi=False}"
      ]
     },
     "execution_count": 53,
     "metadata": {},
     "output_type": "execute_result"
    }
   ],
   "source": [
    "h5"
   ]
  },
  {
   "cell_type": "code",
   "execution_count": 54,
   "metadata": {},
   "outputs": [
    {
     "data": {
      "text/plain": [
       "array([(1609459200000000000, [100.    , 100.    , 100.    , 100.    , 100.    , 100.    , 100.    , 100.    , 100.    , 100.    ]),\n",
       "       (1609459260000000000, [ 99.9947,  99.9559,  99.9648,  99.9979, 100.1152,  99.9619, 100.0472,  99.8679, 100.0985, 100.0166]),\n",
       "       (1609459320000000000, [100.0191,  99.9931, 100.0162, 100.1409, 100.0532,  99.8865, 100.0476,  99.8111,  99.9982, 100.0917])],\n",
       "      dtype=[('index', '<i8'), ('values_block_0', '<f8', (10,))])"
      ]
     },
     "execution_count": 54,
     "metadata": {},
     "output_type": "execute_result"
    }
   ],
   "source": [
    "h5.root.data.table[:3]"
   ]
  },
  {
   "cell_type": "code",
   "execution_count": 55,
   "metadata": {},
   "outputs": [],
   "source": [
    "h5.close()"
   ]
  },
  {
   "cell_type": "code",
   "execution_count": 56,
   "metadata": {},
   "outputs": [],
   "source": [
    "rm data/data.*"
   ]
  },
  {
   "cell_type": "markdown",
   "metadata": {},
   "source": [
    "### Using TsTables"
   ]
  },
  {
   "cell_type": "code",
   "execution_count": 57,
   "metadata": {},
   "outputs": [
    {
     "name": "stdout",
     "output_type": "stream",
     "text": [
      "CPU times: user 300 ms, sys: 41.2 ms, total: 341 ms\n",
      "Wall time: 348 ms\n"
     ]
    }
   ],
   "source": [
    "%%time\n",
    "data = generate_sample_data(rows=2.5e6, cols=5,\n",
    "                            freq='1s').round(4)"
   ]
  },
  {
   "cell_type": "code",
   "execution_count": 58,
   "metadata": {},
   "outputs": [
    {
     "name": "stdout",
     "output_type": "stream",
     "text": [
      "<class 'pandas.core.frame.DataFrame'>\n",
      "DatetimeIndex: 2500000 entries, 2021-01-01 00:00:00 to 2021-01-29 22:26:39\n",
      "Freq: S\n",
      "Data columns (total 5 columns):\n",
      " #   Column  Dtype  \n",
      "---  ------  -----  \n",
      " 0   No0     float64\n",
      " 1   No1     float64\n",
      " 2   No2     float64\n",
      " 3   No3     float64\n",
      " 4   No4     float64\n",
      "dtypes: float64(5)\n",
      "memory usage: 114.4 MB\n"
     ]
    }
   ],
   "source": [
    "data.info()"
   ]
  },
  {
   "cell_type": "code",
   "execution_count": 59,
   "metadata": {},
   "outputs": [],
   "source": [
    "import tstables"
   ]
  },
  {
   "cell_type": "code",
   "execution_count": 60,
   "metadata": {},
   "outputs": [],
   "source": [
    "import tables as tb"
   ]
  },
  {
   "cell_type": "code",
   "execution_count": 61,
   "metadata": {},
   "outputs": [],
   "source": [
    "class desc(tb.IsDescription):\n",
    "    ''' Description of TsTables table structure.\n",
    "    '''\n",
    "    timestamp = tb.Int64Col(pos=0)\n",
    "    No0 = tb.Float64Col(pos=1)\n",
    "    No1 = tb.Float64Col(pos=2)\n",
    "    No2 = tb.Float64Col(pos=3)\n",
    "    No3 = tb.Float64Col(pos=4)\n",
    "    No4 = tb.Float64Col(pos=5)"
   ]
  },
  {
   "cell_type": "code",
   "execution_count": 62,
   "metadata": {},
   "outputs": [],
   "source": [
    "h5 = tb.open_file('data/data.h5ts', 'w')"
   ]
  },
  {
   "cell_type": "code",
   "execution_count": 63,
   "metadata": {},
   "outputs": [],
   "source": [
    "ts = h5.create_ts('/', 'data', desc)"
   ]
  },
  {
   "cell_type": "code",
   "execution_count": 64,
   "metadata": {},
   "outputs": [
    {
     "data": {
      "text/plain": [
       "File(filename=data/data.h5ts, title='', mode='w', root_uep='/', filters=Filters(complevel=0, shuffle=False, bitshuffle=False, fletcher32=False, least_significant_digit=None))\n",
       "/ (RootGroup) ''\n",
       "/data (Group/Timeseries) ''\n",
       "/data/y2024 (Group) ''\n",
       "/data/y2024/m02 (Group) ''\n",
       "/data/y2024/m02/d21 (Group) ''\n",
       "/data/y2024/m02/d21/ts_data (Table(0,)) ''\n",
       "  description := {\n",
       "  \"timestamp\": Int64Col(shape=(), dflt=0, pos=0),\n",
       "  \"No0\": Float64Col(shape=(), dflt=0.0, pos=1),\n",
       "  \"No1\": Float64Col(shape=(), dflt=0.0, pos=2),\n",
       "  \"No2\": Float64Col(shape=(), dflt=0.0, pos=3),\n",
       "  \"No3\": Float64Col(shape=(), dflt=0.0, pos=4),\n",
       "  \"No4\": Float64Col(shape=(), dflt=0.0, pos=5)}\n",
       "  byteorder := 'little'\n",
       "  chunkshape := (1365,)"
      ]
     },
     "execution_count": 64,
     "metadata": {},
     "output_type": "execute_result"
    }
   ],
   "source": [
    "h5"
   ]
  },
  {
   "cell_type": "code",
   "execution_count": 65,
   "metadata": {},
   "outputs": [
    {
     "ename": "AttributeError",
     "evalue": "module 'pandas.tseries' has no attribute 'index'",
     "output_type": "error",
     "traceback": [
      "\u001b[0;31m---------------------------------------------------------------------------\u001b[0m",
      "\u001b[0;31mAttributeError\u001b[0m                            Traceback (most recent call last)",
      "File \u001b[0;32m<timed eval>:1\u001b[0m\n",
      "File \u001b[0;32m~/miniconda3/envs/py4at/lib/python3.10/site-packages/tstables/tstable.py:239\u001b[0m, in \u001b[0;36mTsTable.append\u001b[0;34m(self, rows, convert_strings)\u001b[0m\n\u001b[1;32m    237\u001b[0m \u001b[38;5;28;01mif\u001b[39;00m rows\u001b[38;5;241m.\u001b[39mempty:\n\u001b[1;32m    238\u001b[0m     \u001b[38;5;28;01mreturn\u001b[39;00m \u001b[38;5;66;03m# Do nothing if we are appending nothing\u001b[39;00m\n\u001b[0;32m--> 239\u001b[0m \u001b[38;5;28;01mif\u001b[39;00m rows\u001b[38;5;241m.\u001b[39mindex\u001b[38;5;241m.\u001b[39m\u001b[38;5;18m__class__\u001b[39m \u001b[38;5;241m!=\u001b[39m \u001b[43mpandas\u001b[49m\u001b[38;5;241;43m.\u001b[39;49m\u001b[43mtseries\u001b[49m\u001b[38;5;241;43m.\u001b[39;49m\u001b[43mindex\u001b[49m\u001b[38;5;241m.\u001b[39mDatetimeIndex:\n\u001b[1;32m    240\u001b[0m     \u001b[38;5;28;01mraise\u001b[39;00m \u001b[38;5;167;01mValueError\u001b[39;00m(\u001b[38;5;124m'\u001b[39m\u001b[38;5;124mwhen rows is a DataFrame, the index must be a DatetimeIndex.\u001b[39m\u001b[38;5;124m'\u001b[39m)\n\u001b[1;32m    242\u001b[0m \u001b[38;5;66;03m# Convert to records\u001b[39;00m\n",
      "\u001b[0;31mAttributeError\u001b[0m: module 'pandas.tseries' has no attribute 'index'"
     ]
    }
   ],
   "source": [
    "%time ts.append(data)"
   ]
  },
  {
   "cell_type": "code",
   "execution_count": null,
   "metadata": {},
   "outputs": [],
   "source": [
    "# h5"
   ]
  },
  {
   "cell_type": "code",
   "execution_count": 66,
   "metadata": {},
   "outputs": [],
   "source": [
    "import datetime"
   ]
  },
  {
   "cell_type": "code",
   "execution_count": 67,
   "metadata": {},
   "outputs": [],
   "source": [
    "start = datetime.datetime(2021, 1, 2)"
   ]
  },
  {
   "cell_type": "code",
   "execution_count": 68,
   "metadata": {},
   "outputs": [],
   "source": [
    "end = datetime.datetime(2021, 1, 3)"
   ]
  },
  {
   "cell_type": "code",
   "execution_count": 69,
   "metadata": {},
   "outputs": [
    {
     "ename": "ValueError",
     "evalue": "Must pass non-zero number of levels/codes",
     "output_type": "error",
     "traceback": [
      "\u001b[0;31m---------------------------------------------------------------------------\u001b[0m",
      "\u001b[0;31mValueError\u001b[0m                                Traceback (most recent call last)",
      "File \u001b[0;32m<timed exec>:1\u001b[0m\n",
      "File \u001b[0;32m~/miniconda3/envs/py4at/lib/python3.10/site-packages/tstables/tstable.py:227\u001b[0m, in \u001b[0;36mTsTable.read_range\u001b[0;34m(self, start_dt, end_dt, as_pandas_dataframe)\u001b[0m\n\u001b[1;32m    225\u001b[0m \u001b[38;5;66;03m# Turn into a pandas DataFrame with a timeseries index\u001b[39;00m\n\u001b[1;32m    226\u001b[0m \u001b[38;5;28;01mif\u001b[39;00m as_pandas_dataframe:\n\u001b[0;32m--> 227\u001b[0m     result \u001b[38;5;241m=\u001b[39m \u001b[43mpandas\u001b[49m\u001b[38;5;241;43m.\u001b[39;49m\u001b[43mDataFrame\u001b[49m\u001b[38;5;241;43m.\u001b[39;49m\u001b[43mfrom_records\u001b[49m\u001b[43m(\u001b[49m\u001b[43mresult\u001b[49m\u001b[43m,\u001b[49m\n\u001b[1;32m    228\u001b[0m \u001b[43m        \u001b[49m\u001b[43mindex\u001b[49m\u001b[38;5;241;43m=\u001b[39;49m\u001b[43mresult\u001b[49m\u001b[43m[\u001b[49m\u001b[38;5;124;43m'\u001b[39;49m\u001b[38;5;124;43mtimestamp\u001b[39;49m\u001b[38;5;124;43m'\u001b[39;49m\u001b[43m]\u001b[49m\u001b[38;5;241;43m.\u001b[39;49m\u001b[43mastype\u001b[49m\u001b[43m(\u001b[49m\u001b[38;5;124;43m'\u001b[39;49m\u001b[38;5;124;43mdatetime64[ms]\u001b[39;49m\u001b[38;5;124;43m'\u001b[39;49m\u001b[43m)\u001b[49m\u001b[43m,\u001b[49m\n\u001b[1;32m    229\u001b[0m \u001b[43m        \u001b[49m\u001b[43mexclude\u001b[49m\u001b[38;5;241;43m=\u001b[39;49m\u001b[43m[\u001b[49m\u001b[38;5;124;43m'\u001b[39;49m\u001b[38;5;124;43mtimestamp\u001b[39;49m\u001b[38;5;124;43m'\u001b[39;49m\u001b[43m]\u001b[49m\u001b[43m)\u001b[49m\n\u001b[1;32m    231\u001b[0m \u001b[38;5;28;01mreturn\u001b[39;00m result\n",
      "File \u001b[0;32m~/miniconda3/envs/py4at/lib/python3.10/site-packages/pandas/core/frame.py:2388\u001b[0m, in \u001b[0;36mDataFrame.from_records\u001b[0;34m(cls, data, index, exclude, columns, coerce_float, nrows)\u001b[0m\n\u001b[1;32m   2386\u001b[0m             result_index \u001b[38;5;241m=\u001b[39m index\n\u001b[1;32m   2387\u001b[0m         \u001b[38;5;28;01melse\u001b[39;00m:\n\u001b[0;32m-> 2388\u001b[0m             result_index \u001b[38;5;241m=\u001b[39m \u001b[43mensure_index_from_sequences\u001b[49m\u001b[43m(\u001b[49m\u001b[43mindex_data\u001b[49m\u001b[43m,\u001b[49m\u001b[43m \u001b[49m\u001b[43mnames\u001b[49m\u001b[38;5;241;43m=\u001b[39;49m\u001b[43mindex\u001b[49m\u001b[43m)\u001b[49m\n\u001b[1;32m   2389\u001b[0m             exclude\u001b[38;5;241m.\u001b[39mupdate(index)\n\u001b[1;32m   2391\u001b[0m \u001b[38;5;28;01mif\u001b[39;00m \u001b[38;5;28many\u001b[39m(exclude):\n",
      "File \u001b[0;32m~/miniconda3/envs/py4at/lib/python3.10/site-packages/pandas/core/indexes/base.py:7509\u001b[0m, in \u001b[0;36mensure_index_from_sequences\u001b[0;34m(sequences, names)\u001b[0m\n\u001b[1;32m   7507\u001b[0m     \u001b[38;5;28;01mreturn\u001b[39;00m Index(sequences[\u001b[38;5;241m0\u001b[39m], name\u001b[38;5;241m=\u001b[39mnames)\n\u001b[1;32m   7508\u001b[0m \u001b[38;5;28;01melse\u001b[39;00m:\n\u001b[0;32m-> 7509\u001b[0m     \u001b[38;5;28;01mreturn\u001b[39;00m \u001b[43mMultiIndex\u001b[49m\u001b[38;5;241;43m.\u001b[39;49m\u001b[43mfrom_arrays\u001b[49m\u001b[43m(\u001b[49m\u001b[43msequences\u001b[49m\u001b[43m,\u001b[49m\u001b[43m \u001b[49m\u001b[43mnames\u001b[49m\u001b[38;5;241;43m=\u001b[39;49m\u001b[43mnames\u001b[49m\u001b[43m)\u001b[49m\n",
      "File \u001b[0;32m~/miniconda3/envs/py4at/lib/python3.10/site-packages/pandas/core/indexes/multi.py:535\u001b[0m, in \u001b[0;36mMultiIndex.from_arrays\u001b[0;34m(cls, arrays, sortorder, names)\u001b[0m\n\u001b[1;32m    532\u001b[0m \u001b[38;5;28;01mif\u001b[39;00m names \u001b[38;5;129;01mis\u001b[39;00m lib\u001b[38;5;241m.\u001b[39mno_default:\n\u001b[1;32m    533\u001b[0m     names \u001b[38;5;241m=\u001b[39m [\u001b[38;5;28mgetattr\u001b[39m(arr, \u001b[38;5;124m\"\u001b[39m\u001b[38;5;124mname\u001b[39m\u001b[38;5;124m\"\u001b[39m, \u001b[38;5;28;01mNone\u001b[39;00m) \u001b[38;5;28;01mfor\u001b[39;00m arr \u001b[38;5;129;01min\u001b[39;00m arrays]\n\u001b[0;32m--> 535\u001b[0m \u001b[38;5;28;01mreturn\u001b[39;00m \u001b[38;5;28;43mcls\u001b[39;49m\u001b[43m(\u001b[49m\n\u001b[1;32m    536\u001b[0m \u001b[43m    \u001b[49m\u001b[43mlevels\u001b[49m\u001b[38;5;241;43m=\u001b[39;49m\u001b[43mlevels\u001b[49m\u001b[43m,\u001b[49m\n\u001b[1;32m    537\u001b[0m \u001b[43m    \u001b[49m\u001b[43mcodes\u001b[49m\u001b[38;5;241;43m=\u001b[39;49m\u001b[43mcodes\u001b[49m\u001b[43m,\u001b[49m\n\u001b[1;32m    538\u001b[0m \u001b[43m    \u001b[49m\u001b[43msortorder\u001b[49m\u001b[38;5;241;43m=\u001b[39;49m\u001b[43msortorder\u001b[49m\u001b[43m,\u001b[49m\n\u001b[1;32m    539\u001b[0m \u001b[43m    \u001b[49m\u001b[43mnames\u001b[49m\u001b[38;5;241;43m=\u001b[39;49m\u001b[43mnames\u001b[49m\u001b[43m,\u001b[49m\n\u001b[1;32m    540\u001b[0m \u001b[43m    \u001b[49m\u001b[43mverify_integrity\u001b[49m\u001b[38;5;241;43m=\u001b[39;49m\u001b[38;5;28;43;01mFalse\u001b[39;49;00m\u001b[43m,\u001b[49m\n\u001b[1;32m    541\u001b[0m \u001b[43m\u001b[49m\u001b[43m)\u001b[49m\n",
      "File \u001b[0;32m~/miniconda3/envs/py4at/lib/python3.10/site-packages/pandas/core/indexes/multi.py:342\u001b[0m, in \u001b[0;36mMultiIndex.__new__\u001b[0;34m(cls, levels, codes, sortorder, names, dtype, copy, name, verify_integrity)\u001b[0m\n\u001b[1;32m    340\u001b[0m     \u001b[38;5;28;01mraise\u001b[39;00m \u001b[38;5;167;01mValueError\u001b[39;00m(\u001b[38;5;124m\"\u001b[39m\u001b[38;5;124mLength of levels and codes must be the same.\u001b[39m\u001b[38;5;124m\"\u001b[39m)\n\u001b[1;32m    341\u001b[0m \u001b[38;5;28;01mif\u001b[39;00m \u001b[38;5;28mlen\u001b[39m(levels) \u001b[38;5;241m==\u001b[39m \u001b[38;5;241m0\u001b[39m:\n\u001b[0;32m--> 342\u001b[0m     \u001b[38;5;28;01mraise\u001b[39;00m \u001b[38;5;167;01mValueError\u001b[39;00m(\u001b[38;5;124m\"\u001b[39m\u001b[38;5;124mMust pass non-zero number of levels/codes\u001b[39m\u001b[38;5;124m\"\u001b[39m)\n\u001b[1;32m    344\u001b[0m result \u001b[38;5;241m=\u001b[39m \u001b[38;5;28mobject\u001b[39m\u001b[38;5;241m.\u001b[39m\u001b[38;5;21m__new__\u001b[39m(\u001b[38;5;28mcls\u001b[39m)\n\u001b[1;32m    345\u001b[0m result\u001b[38;5;241m.\u001b[39m_cache \u001b[38;5;241m=\u001b[39m {}\n",
      "\u001b[0;31mValueError\u001b[0m: Must pass non-zero number of levels/codes"
     ]
    }
   ],
   "source": [
    "%time subset = ts.read_range(start, end)"
   ]
  },
  {
   "cell_type": "code",
   "execution_count": 70,
   "metadata": {},
   "outputs": [],
   "source": [
    "start = datetime.datetime(2021, 1, 2, 12, 30, 0)"
   ]
  },
  {
   "cell_type": "code",
   "execution_count": 71,
   "metadata": {},
   "outputs": [],
   "source": [
    "end = datetime.datetime(2021, 1, 5, 17, 15, 30)"
   ]
  },
  {
   "cell_type": "code",
   "execution_count": 72,
   "metadata": {},
   "outputs": [
    {
     "ename": "ValueError",
     "evalue": "Must pass non-zero number of levels/codes",
     "output_type": "error",
     "traceback": [
      "\u001b[0;31m---------------------------------------------------------------------------\u001b[0m",
      "\u001b[0;31mValueError\u001b[0m                                Traceback (most recent call last)",
      "File \u001b[0;32m<timed exec>:1\u001b[0m\n",
      "File \u001b[0;32m~/miniconda3/envs/py4at/lib/python3.10/site-packages/tstables/tstable.py:227\u001b[0m, in \u001b[0;36mTsTable.read_range\u001b[0;34m(self, start_dt, end_dt, as_pandas_dataframe)\u001b[0m\n\u001b[1;32m    225\u001b[0m \u001b[38;5;66;03m# Turn into a pandas DataFrame with a timeseries index\u001b[39;00m\n\u001b[1;32m    226\u001b[0m \u001b[38;5;28;01mif\u001b[39;00m as_pandas_dataframe:\n\u001b[0;32m--> 227\u001b[0m     result \u001b[38;5;241m=\u001b[39m \u001b[43mpandas\u001b[49m\u001b[38;5;241;43m.\u001b[39;49m\u001b[43mDataFrame\u001b[49m\u001b[38;5;241;43m.\u001b[39;49m\u001b[43mfrom_records\u001b[49m\u001b[43m(\u001b[49m\u001b[43mresult\u001b[49m\u001b[43m,\u001b[49m\n\u001b[1;32m    228\u001b[0m \u001b[43m        \u001b[49m\u001b[43mindex\u001b[49m\u001b[38;5;241;43m=\u001b[39;49m\u001b[43mresult\u001b[49m\u001b[43m[\u001b[49m\u001b[38;5;124;43m'\u001b[39;49m\u001b[38;5;124;43mtimestamp\u001b[39;49m\u001b[38;5;124;43m'\u001b[39;49m\u001b[43m]\u001b[49m\u001b[38;5;241;43m.\u001b[39;49m\u001b[43mastype\u001b[49m\u001b[43m(\u001b[49m\u001b[38;5;124;43m'\u001b[39;49m\u001b[38;5;124;43mdatetime64[ms]\u001b[39;49m\u001b[38;5;124;43m'\u001b[39;49m\u001b[43m)\u001b[49m\u001b[43m,\u001b[49m\n\u001b[1;32m    229\u001b[0m \u001b[43m        \u001b[49m\u001b[43mexclude\u001b[49m\u001b[38;5;241;43m=\u001b[39;49m\u001b[43m[\u001b[49m\u001b[38;5;124;43m'\u001b[39;49m\u001b[38;5;124;43mtimestamp\u001b[39;49m\u001b[38;5;124;43m'\u001b[39;49m\u001b[43m]\u001b[49m\u001b[43m)\u001b[49m\n\u001b[1;32m    231\u001b[0m \u001b[38;5;28;01mreturn\u001b[39;00m result\n",
      "File \u001b[0;32m~/miniconda3/envs/py4at/lib/python3.10/site-packages/pandas/core/frame.py:2388\u001b[0m, in \u001b[0;36mDataFrame.from_records\u001b[0;34m(cls, data, index, exclude, columns, coerce_float, nrows)\u001b[0m\n\u001b[1;32m   2386\u001b[0m             result_index \u001b[38;5;241m=\u001b[39m index\n\u001b[1;32m   2387\u001b[0m         \u001b[38;5;28;01melse\u001b[39;00m:\n\u001b[0;32m-> 2388\u001b[0m             result_index \u001b[38;5;241m=\u001b[39m \u001b[43mensure_index_from_sequences\u001b[49m\u001b[43m(\u001b[49m\u001b[43mindex_data\u001b[49m\u001b[43m,\u001b[49m\u001b[43m \u001b[49m\u001b[43mnames\u001b[49m\u001b[38;5;241;43m=\u001b[39;49m\u001b[43mindex\u001b[49m\u001b[43m)\u001b[49m\n\u001b[1;32m   2389\u001b[0m             exclude\u001b[38;5;241m.\u001b[39mupdate(index)\n\u001b[1;32m   2391\u001b[0m \u001b[38;5;28;01mif\u001b[39;00m \u001b[38;5;28many\u001b[39m(exclude):\n",
      "File \u001b[0;32m~/miniconda3/envs/py4at/lib/python3.10/site-packages/pandas/core/indexes/base.py:7509\u001b[0m, in \u001b[0;36mensure_index_from_sequences\u001b[0;34m(sequences, names)\u001b[0m\n\u001b[1;32m   7507\u001b[0m     \u001b[38;5;28;01mreturn\u001b[39;00m Index(sequences[\u001b[38;5;241m0\u001b[39m], name\u001b[38;5;241m=\u001b[39mnames)\n\u001b[1;32m   7508\u001b[0m \u001b[38;5;28;01melse\u001b[39;00m:\n\u001b[0;32m-> 7509\u001b[0m     \u001b[38;5;28;01mreturn\u001b[39;00m \u001b[43mMultiIndex\u001b[49m\u001b[38;5;241;43m.\u001b[39;49m\u001b[43mfrom_arrays\u001b[49m\u001b[43m(\u001b[49m\u001b[43msequences\u001b[49m\u001b[43m,\u001b[49m\u001b[43m \u001b[49m\u001b[43mnames\u001b[49m\u001b[38;5;241;43m=\u001b[39;49m\u001b[43mnames\u001b[49m\u001b[43m)\u001b[49m\n",
      "File \u001b[0;32m~/miniconda3/envs/py4at/lib/python3.10/site-packages/pandas/core/indexes/multi.py:535\u001b[0m, in \u001b[0;36mMultiIndex.from_arrays\u001b[0;34m(cls, arrays, sortorder, names)\u001b[0m\n\u001b[1;32m    532\u001b[0m \u001b[38;5;28;01mif\u001b[39;00m names \u001b[38;5;129;01mis\u001b[39;00m lib\u001b[38;5;241m.\u001b[39mno_default:\n\u001b[1;32m    533\u001b[0m     names \u001b[38;5;241m=\u001b[39m [\u001b[38;5;28mgetattr\u001b[39m(arr, \u001b[38;5;124m\"\u001b[39m\u001b[38;5;124mname\u001b[39m\u001b[38;5;124m\"\u001b[39m, \u001b[38;5;28;01mNone\u001b[39;00m) \u001b[38;5;28;01mfor\u001b[39;00m arr \u001b[38;5;129;01min\u001b[39;00m arrays]\n\u001b[0;32m--> 535\u001b[0m \u001b[38;5;28;01mreturn\u001b[39;00m \u001b[38;5;28;43mcls\u001b[39;49m\u001b[43m(\u001b[49m\n\u001b[1;32m    536\u001b[0m \u001b[43m    \u001b[49m\u001b[43mlevels\u001b[49m\u001b[38;5;241;43m=\u001b[39;49m\u001b[43mlevels\u001b[49m\u001b[43m,\u001b[49m\n\u001b[1;32m    537\u001b[0m \u001b[43m    \u001b[49m\u001b[43mcodes\u001b[49m\u001b[38;5;241;43m=\u001b[39;49m\u001b[43mcodes\u001b[49m\u001b[43m,\u001b[49m\n\u001b[1;32m    538\u001b[0m \u001b[43m    \u001b[49m\u001b[43msortorder\u001b[49m\u001b[38;5;241;43m=\u001b[39;49m\u001b[43msortorder\u001b[49m\u001b[43m,\u001b[49m\n\u001b[1;32m    539\u001b[0m \u001b[43m    \u001b[49m\u001b[43mnames\u001b[49m\u001b[38;5;241;43m=\u001b[39;49m\u001b[43mnames\u001b[49m\u001b[43m,\u001b[49m\n\u001b[1;32m    540\u001b[0m \u001b[43m    \u001b[49m\u001b[43mverify_integrity\u001b[49m\u001b[38;5;241;43m=\u001b[39;49m\u001b[38;5;28;43;01mFalse\u001b[39;49;00m\u001b[43m,\u001b[49m\n\u001b[1;32m    541\u001b[0m \u001b[43m\u001b[49m\u001b[43m)\u001b[49m\n",
      "File \u001b[0;32m~/miniconda3/envs/py4at/lib/python3.10/site-packages/pandas/core/indexes/multi.py:342\u001b[0m, in \u001b[0;36mMultiIndex.__new__\u001b[0;34m(cls, levels, codes, sortorder, names, dtype, copy, name, verify_integrity)\u001b[0m\n\u001b[1;32m    340\u001b[0m     \u001b[38;5;28;01mraise\u001b[39;00m \u001b[38;5;167;01mValueError\u001b[39;00m(\u001b[38;5;124m\"\u001b[39m\u001b[38;5;124mLength of levels and codes must be the same.\u001b[39m\u001b[38;5;124m\"\u001b[39m)\n\u001b[1;32m    341\u001b[0m \u001b[38;5;28;01mif\u001b[39;00m \u001b[38;5;28mlen\u001b[39m(levels) \u001b[38;5;241m==\u001b[39m \u001b[38;5;241m0\u001b[39m:\n\u001b[0;32m--> 342\u001b[0m     \u001b[38;5;28;01mraise\u001b[39;00m \u001b[38;5;167;01mValueError\u001b[39;00m(\u001b[38;5;124m\"\u001b[39m\u001b[38;5;124mMust pass non-zero number of levels/codes\u001b[39m\u001b[38;5;124m\"\u001b[39m)\n\u001b[1;32m    344\u001b[0m result \u001b[38;5;241m=\u001b[39m \u001b[38;5;28mobject\u001b[39m\u001b[38;5;241m.\u001b[39m\u001b[38;5;21m__new__\u001b[39m(\u001b[38;5;28mcls\u001b[39m)\n\u001b[1;32m    345\u001b[0m result\u001b[38;5;241m.\u001b[39m_cache \u001b[38;5;241m=\u001b[39m {}\n",
      "\u001b[0;31mValueError\u001b[0m: Must pass non-zero number of levels/codes"
     ]
    }
   ],
   "source": [
    "%time subset = ts.read_range(start, end)"
   ]
  },
  {
   "cell_type": "code",
   "execution_count": 73,
   "metadata": {},
   "outputs": [
    {
     "ename": "NameError",
     "evalue": "name 'subset' is not defined",
     "output_type": "error",
     "traceback": [
      "\u001b[0;31m---------------------------------------------------------------------------\u001b[0m",
      "\u001b[0;31mNameError\u001b[0m                                 Traceback (most recent call last)",
      "Cell \u001b[0;32mIn[73], line 1\u001b[0m\n\u001b[0;32m----> 1\u001b[0m \u001b[43msubset\u001b[49m\u001b[38;5;241m.\u001b[39minfo()\n",
      "\u001b[0;31mNameError\u001b[0m: name 'subset' is not defined"
     ]
    }
   ],
   "source": [
    "subset.info()"
   ]
  },
  {
   "cell_type": "code",
   "execution_count": null,
   "metadata": {},
   "outputs": [],
   "source": [
    "h5.close()"
   ]
  },
  {
   "cell_type": "code",
   "execution_count": null,
   "metadata": {},
   "outputs": [],
   "source": [
    "rm data/data.*"
   ]
  },
  {
   "cell_type": "markdown",
   "metadata": {},
   "source": [
    "### Storing Data with SQLite3"
   ]
  },
  {
   "cell_type": "code",
   "execution_count": 74,
   "metadata": {},
   "outputs": [
    {
     "name": "stdout",
     "output_type": "stream",
     "text": [
      "CPU times: user 130 ms, sys: 24.9 ms, total: 155 ms\n",
      "Wall time: 154 ms\n"
     ]
    }
   ],
   "source": [
    "%time data = generate_sample_data(1e6, 5, '1min').round(4)"
   ]
  },
  {
   "cell_type": "code",
   "execution_count": 75,
   "metadata": {},
   "outputs": [
    {
     "name": "stdout",
     "output_type": "stream",
     "text": [
      "<class 'pandas.core.frame.DataFrame'>\n",
      "DatetimeIndex: 1000000 entries, 2021-01-01 00:00:00 to 2022-11-26 10:39:00\n",
      "Freq: T\n",
      "Data columns (total 5 columns):\n",
      " #   Column  Non-Null Count    Dtype  \n",
      "---  ------  --------------    -----  \n",
      " 0   No0     1000000 non-null  float64\n",
      " 1   No1     1000000 non-null  float64\n",
      " 2   No2     1000000 non-null  float64\n",
      " 3   No3     1000000 non-null  float64\n",
      " 4   No4     1000000 non-null  float64\n",
      "dtypes: float64(5)\n",
      "memory usage: 45.8 MB\n"
     ]
    }
   ],
   "source": [
    "data.info()"
   ]
  },
  {
   "cell_type": "code",
   "execution_count": 76,
   "metadata": {},
   "outputs": [],
   "source": [
    "import sqlite3 as sq3"
   ]
  },
  {
   "cell_type": "code",
   "execution_count": 77,
   "metadata": {},
   "outputs": [],
   "source": [
    "con = sq3.connect('data/data.sql')"
   ]
  },
  {
   "cell_type": "code",
   "execution_count": 78,
   "metadata": {},
   "outputs": [
    {
     "name": "stdout",
     "output_type": "stream",
     "text": [
      "CPU times: user 1.77 s, sys: 154 ms, total: 1.92 s\n",
      "Wall time: 1.98 s\n"
     ]
    },
    {
     "data": {
      "text/plain": [
       "1000000"
      ]
     },
     "execution_count": 78,
     "metadata": {},
     "output_type": "execute_result"
    }
   ],
   "source": [
    "%time data.to_sql('data', con)"
   ]
  },
  {
   "cell_type": "code",
   "execution_count": 79,
   "metadata": {},
   "outputs": [
    {
     "name": "stdout",
     "output_type": "stream",
     "text": [
      "-rw-r--r--  1 501  20         96 Feb 21 20:56 data/data.h5ts\n",
      "-rw-r--r--  1 501  20  105316352 Feb 21 20:58 data/data.sql\n"
     ]
    }
   ],
   "source": [
    "ls -n data/data.*"
   ]
  },
  {
   "cell_type": "code",
   "execution_count": 80,
   "metadata": {},
   "outputs": [],
   "source": [
    "query = 'SELECT * FROM data WHERE No1 > 103 and No2 < 105'"
   ]
  },
  {
   "cell_type": "code",
   "execution_count": 81,
   "metadata": {},
   "outputs": [
    {
     "name": "stdout",
     "output_type": "stream",
     "text": [
      "CPU times: user 41.9 ms, sys: 17.4 ms, total: 59.3 ms\n",
      "Wall time: 59 ms\n"
     ]
    }
   ],
   "source": [
    "%time res = con.execute(query).fetchall()"
   ]
  },
  {
   "cell_type": "code",
   "execution_count": 82,
   "metadata": {},
   "outputs": [
    {
     "data": {
      "text/plain": [
       "[]"
      ]
     },
     "execution_count": 82,
     "metadata": {},
     "output_type": "execute_result"
    }
   ],
   "source": [
    "res[:5]"
   ]
  },
  {
   "cell_type": "code",
   "execution_count": 83,
   "metadata": {},
   "outputs": [
    {
     "data": {
      "text/plain": [
       "0"
      ]
     },
     "execution_count": 83,
     "metadata": {},
     "output_type": "execute_result"
    }
   ],
   "source": [
    "len(res)"
   ]
  },
  {
   "cell_type": "code",
   "execution_count": 84,
   "metadata": {},
   "outputs": [],
   "source": [
    "con.close()"
   ]
  },
  {
   "cell_type": "code",
   "execution_count": 85,
   "metadata": {},
   "outputs": [],
   "source": [
    "rm data/data.*"
   ]
  },
  {
   "cell_type": "markdown",
   "metadata": {},
   "source": [
    "<img src=\"http://hilpisch.com/tpq_logo.png\" alt=\"The Python Quants\" width=\"35%\" align=\"right\" border=\"0\"><br>\n",
    "\n",
    "<a href=\"http://tpq.io\" target=\"_blank\">http://tpq.io</a> | <a href=\"http://twitter.com/dyjh\" target=\"_blank\">@dyjh</a> | <a href=\"mailto:training@tpq.io\">training@tpq.io</a>"
   ]
  }
 ],
 "metadata": {
  "anaconda-cloud": {},
  "kernelspec": {
   "display_name": "Python 3 (ipykernel)",
   "language": "python",
   "name": "python3"
  },
  "language_info": {
   "codemirror_mode": {
    "name": "ipython",
    "version": 3
   },
   "file_extension": ".py",
   "mimetype": "text/x-python",
   "name": "python",
   "nbconvert_exporter": "python",
   "pygments_lexer": "ipython3",
   "version": "3.10.12"
  }
 },
 "nbformat": 4,
 "nbformat_minor": 4
}
